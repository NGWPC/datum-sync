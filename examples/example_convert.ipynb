{
 "cells": [
  {
   "cell_type": "markdown",
   "id": "2b90deb6",
   "metadata": {},
   "source": [
    "# Datum Sync Demo\n",
    "Demonstrates the `convert_datum` function which converts between horizontal and vertical CRS using pyproj.\n",
    "\n",
    "NOTE: An internet connection is required for correct results. Some transformations require pyproj to fetch transformation grids on the fly."
   ]
  },
  {
   "cell_type": "code",
   "execution_count": 1,
   "id": "4dcd00f4",
   "metadata": {},
   "outputs": [],
   "source": [
    "from pyproj import CRS, Transformer\n",
    "\n",
    "from datum_sync import DatumSync"
   ]
  },
  {
   "cell_type": "markdown",
   "id": "e08422cd",
   "metadata": {},
   "source": [
    "## Converting from WGS84 3D to Albers+NAVD88: 2 Steps"
   ]
  },
  {
   "cell_type": "markdown",
   "id": "b4624bde",
   "metadata": {},
   "source": [
    "### Step 1. 3D WGS84 -> NAD83/NAVD88\n",
    "Convert from 3D WGS84 (https://epsg.io/4979) to NAD83/NAVD88 (https://epsg.io/5498)\n",
    "These are two geographic coordinate systems using degrees. 4979 elevation is over the WGS84 ellipsoid. This converts horizontally to NAD83 and vertically to NAVD88."
   ]
  },
  {
   "cell_type": "code",
   "execution_count": 2,
   "id": "5f93667a",
   "metadata": {},
   "outputs": [
    {
     "name": "stdout",
     "output_type": "stream",
     "text": [
      "Input 3D WGS84 coordinates: [(-79.4, 43.7, 100), (-79, 43, 110)]\n",
      "Output NAD83/NAVD88 coordinates: [(-79.39999849691358, 43.69999146739919, 137.63312305578765), (-78.99999685400357, 42.99999183172088, 146.61874386759752)]\n"
     ]
    }
   ],
   "source": [
    "lats = [43.7, 43]\n",
    "lngs = [-79.4, -79]\n",
    "zs = [100, 110]\n",
    "wgs84_3d = 4979  # EPSG\n",
    "nad83_navd88 = 5498  # EPSG\n",
    "\n",
    "syncer_wgs84_to_nad83 = DatumSync(crs_input=wgs84_3d, crs_output=nad83_navd88)\n",
    "\n",
    "output_nad83 = syncer_wgs84_to_nad83.convert_datum(xx=lngs, yy=lats, zz=zs)\n",
    "\n",
    "wgs84_coords = [(lngs[i], lats[i], zs[i]) for i in range(len(lats))]\n",
    "nad83_coords = [\n",
    "    (output_nad83[0][i], output_nad83[1][i], output_nad83[2][i]) for i in range(len(output_nad83[0]))\n",
    "]\n",
    "\n",
    "print(f\"Input 3D WGS84 coordinates: {wgs84_coords}\")\n",
    "print(f\"Output NAD83/NAVD88 coordinates: {nad83_coords}\")"
   ]
  },
  {
   "cell_type": "markdown",
   "id": "b439544a",
   "metadata": {},
   "source": [
    "### Step 2. NAD83/NAVD88 -> Albers/NAVD88\n",
    "Now convert the NAD83/NAVD88 to CONUS Albers (horizontal). Albers does not have a vertical component, so it will trigger a warning that z values were not transformed. This is intentional in this case because the coordinates were already transformed from WGS84 height to NAVD88. \n",
    "\n",
    "Albers is a projected CRS that uses meters. Now degrees will be in meters."
   ]
  },
  {
   "cell_type": "code",
   "execution_count": 3,
   "id": "a3c74686",
   "metadata": {},
   "outputs": [
    {
     "name": "stdout",
     "output_type": "stream",
     "text": [
      "Input NAD83/NAVD88 coordinates: [(-79.39999849691358, 43.69999146739919, 137.63312305578765), (-78.99999685400357, 42.99999183172088, 146.61874386759752)]\n",
      "Output Albers/NAVD88 coordinates: [(1325676.0689027791, 2416931.24897092, 137.63312305578765), (1371188.7036548508, 2345672.0544312494, 146.61874386759752)]\n"
     ]
    },
    {
     "name": "stderr",
     "output_type": "stream",
     "text": [
      "/home/quercus.hamlin/Documents/code/datum-sync/src/datum_sync/datum_sync.py:106: ZConversionWarning: Z values were not altered. This could be expected. This may be because input and output CRS do not have vertical element.\n",
      "  self._check_z_conversion()\n"
     ]
    }
   ],
   "source": [
    "conus_albers = 5070  # EPSG\n",
    "nad83_navd88 = 5498  # EPSG\n",
    "\n",
    "syncer_nad83_to_albers = DatumSync(crs_input=nad83_navd88, crs_output=conus_albers)\n",
    "output_albers = syncer_nad83_to_albers.convert_datum(\n",
    "    xx=output_nad83[0],\n",
    "    yy=output_nad83[1],\n",
    "    zz=output_nad83[2],\n",
    ")\n",
    "\n",
    "albers_coords = [\n",
    "    (output_albers[0][i], output_albers[1][i], output_albers[2][i]) for i in range(len(output_albers[0]))\n",
    "]\n",
    "print(f\"Input NAD83/NAVD88 coordinates: {nad83_coords}\")\n",
    "print(f\"Output Albers/NAVD88 coordinates: {albers_coords}\")"
   ]
  },
  {
   "cell_type": "markdown",
   "id": "9250f122",
   "metadata": {},
   "source": [
    "### Step 3. Compare all coordinates\n",
    "Here shows the transformation from initial 3D WGS84 (degrees, height above ellipsoid) to NAD83/NAVD88 (degrees, height above NAVD88 datum) to Albers/NAVD88 (projected meters, height above NAVD88 datum)"
   ]
  },
  {
   "cell_type": "code",
   "execution_count": 4,
   "id": "7f27a1a4",
   "metadata": {},
   "outputs": [
    {
     "name": "stdout",
     "output_type": "stream",
     "text": [
      "Input 3D WGS84 coordinates: [(-79.4, 43.7, 100), (-79, 43, 110)]\n",
      "Input NAD83/NAVD88 coordinates: [(-79.39999849691358, 43.69999146739919, 137.63312305578765), (-78.99999685400357, 42.99999183172088, 146.61874386759752)]\n",
      "Output Albers/NAVD88 coordinates: [(1325676.0689027791, 2416931.24897092, 137.63312305578765), (1371188.7036548508, 2345672.0544312494, 146.61874386759752)]\n"
     ]
    }
   ],
   "source": [
    "print(f\"Input 3D WGS84 coordinates: {wgs84_coords}\")\n",
    "print(f\"Input NAD83/NAVD88 coordinates: {nad83_coords}\")\n",
    "print(f\"Output Albers/NAVD88 coordinates: {albers_coords}\")"
   ]
  },
  {
   "cell_type": "markdown",
   "id": "fd0d121c",
   "metadata": {},
   "source": [
    "### Example. Run with a pre-constructed transformer. Use a single XY."
   ]
  },
  {
   "cell_type": "code",
   "execution_count": 5,
   "id": "482627ad",
   "metadata": {},
   "outputs": [
    {
     "name": "stdout",
     "output_type": "stream",
     "text": [
      "Input NAD83/NAVD88 coordinates: (-79.4, 43.7))\n",
      "Output Albers/NAVD88 coordinates: (16746853.982679501, 8235388.481230134)\n"
     ]
    }
   ],
   "source": [
    "conus_albers = CRS.from_epsg(5070)\n",
    "nad83_navd88 = CRS.from_epsg(5498)\n",
    "transform = Transformer.from_crs(crs_from=nad83_navd88, crs_to=conus_albers)\n",
    "x = -79.4\n",
    "y = 43.7\n",
    "\n",
    "syncer = DatumSync(transform=transform)\n",
    "output = syncer.convert_datum(xx=x, yy=y)\n",
    "\n",
    "print(f\"Input NAD83/NAVD88 coordinates: {(x, y)})\")\n",
    "print(f\"Output Albers/NAVD88 coordinates: {output[0], output[1]}\")"
   ]
  },
  {
   "cell_type": "markdown",
   "id": "903d641b",
   "metadata": {},
   "source": [
    "### Example. Use DatumSyncs transform builder.\n",
    "You can then instantiate the class with a pre-built transformer (useful for caching transformer generation)"
   ]
  },
  {
   "cell_type": "code",
   "execution_count": 11,
   "id": "49cea83d",
   "metadata": {},
   "outputs": [
    {
     "data": {
      "text/plain": [
       "(-314879.8960010844, 2452348.213542961)"
      ]
     },
     "execution_count": 11,
     "metadata": {},
     "output_type": "execute_result"
    }
   ],
   "source": [
    "standalone_transformer = DatumSync.epsg_to_transform(4326, 5070)\n",
    "standalone_transformer.transform(xx=-100, yy=45)"
   ]
  },
  {
   "cell_type": "markdown",
   "id": "a028b15d",
   "metadata": {},
   "source": [
    "### Example. Instantiating incorrectly.\n",
    "You must instantiate with crs_input and crs_output **OR** transform, but not both."
   ]
  },
  {
   "cell_type": "code",
   "execution_count": null,
   "id": "6ed51b68",
   "metadata": {},
   "outputs": [
    {
     "ename": "ValueError",
     "evalue": "CRS/transform input incorretly specified. Either input crs_in and crs_out OR transform; but not both",
     "output_type": "error",
     "traceback": [
      "\u001b[31m---------------------------------------------------------------------------\u001b[39m",
      "\u001b[31mValueError\u001b[39m                                Traceback (most recent call last)",
      "\u001b[36mCell\u001b[39m\u001b[36m \u001b[39m\u001b[32mIn[14]\u001b[39m\u001b[32m, line 1\u001b[39m\n\u001b[32m----> \u001b[39m\u001b[32m1\u001b[39m \u001b[43mDatumSync\u001b[49m\u001b[43m(\u001b[49m\u001b[43mcrs_input\u001b[49m\u001b[43m=\u001b[49m\u001b[32;43m4326\u001b[39;49m\u001b[43m)\u001b[49m\n",
      "\u001b[36mFile \u001b[39m\u001b[32m~/Documents/code/datum-sync/src/datum_sync/datum_sync.py:52\u001b[39m, in \u001b[36mDatumSync.__init__\u001b[39m\u001b[34m(self, crs_input, crs_output, transform)\u001b[39m\n\u001b[32m     46\u001b[39m \u001b[38;5;66;03m# determine if correct units passed in\u001b[39;00m\n\u001b[32m     47\u001b[39m \u001b[38;5;28;01mif\u001b[39;00m (\n\u001b[32m     48\u001b[39m     (transform \u001b[38;5;129;01mand\u001b[39;00m crs_input)\n\u001b[32m     49\u001b[39m     \u001b[38;5;129;01mor\u001b[39;00m (transform \u001b[38;5;129;01mand\u001b[39;00m crs_output)\n\u001b[32m     50\u001b[39m     \u001b[38;5;129;01mor\u001b[39;00m (\u001b[38;5;129;01mnot\u001b[39;00m (crs_input \u001b[38;5;129;01mand\u001b[39;00m crs_output) \u001b[38;5;129;01mand\u001b[39;00m \u001b[38;5;129;01mnot\u001b[39;00m transform)\n\u001b[32m     51\u001b[39m ):\n\u001b[32m---> \u001b[39m\u001b[32m52\u001b[39m     \u001b[38;5;28;01mraise\u001b[39;00m \u001b[38;5;167;01mValueError\u001b[39;00m(\n\u001b[32m     53\u001b[39m         \u001b[33m\"\u001b[39m\u001b[33mCRS/transform input incorretly specified. \u001b[39m\u001b[33m\"\u001b[39m\n\u001b[32m     54\u001b[39m         \u001b[33m\"\u001b[39m\u001b[33mEither input crs_in and crs_out OR transform; but not both\u001b[39m\u001b[33m\"\u001b[39m\n\u001b[32m     55\u001b[39m     )\n\u001b[32m     57\u001b[39m \u001b[38;5;66;03m# define a pyproj transformer if none given\u001b[39;00m\n\u001b[32m     58\u001b[39m \u001b[38;5;28mself\u001b[39m.transform = (\n\u001b[32m     59\u001b[39m     transform\n\u001b[32m     60\u001b[39m     \u001b[38;5;28;01mif\u001b[39;00m transform\n\u001b[32m     61\u001b[39m     \u001b[38;5;28;01melse\u001b[39;00m DatumSync.epsg_to_transform(crs_input=crs_input, crs_output=crs_output)  \u001b[38;5;66;03m# type: ignore[arg-type]\u001b[39;00m\n\u001b[32m     62\u001b[39m )\n",
      "\u001b[31mValueError\u001b[39m: CRS/transform input incorretly specified. Either input crs_in and crs_out OR transform; but not both"
     ]
    }
   ],
   "source": [
    "# should return error\n",
    "DatumSync(crs_input=4326)"
   ]
  },
  {
   "cell_type": "code",
   "execution_count": 15,
   "id": "ff620ed5",
   "metadata": {},
   "outputs": [
    {
     "ename": "ValueError",
     "evalue": "CRS/transform input incorretly specified. Either input crs_in and crs_out OR transform; but not both",
     "output_type": "error",
     "traceback": [
      "\u001b[31m---------------------------------------------------------------------------\u001b[39m",
      "\u001b[31mValueError\u001b[39m                                Traceback (most recent call last)",
      "\u001b[36mCell\u001b[39m\u001b[36m \u001b[39m\u001b[32mIn[15]\u001b[39m\u001b[32m, line 3\u001b[39m\n\u001b[32m      1\u001b[39m \u001b[38;5;66;03m# should return error\u001b[39;00m\n\u001b[32m      2\u001b[39m standalone_transformer = DatumSync.epsg_to_transform(\u001b[32m4326\u001b[39m, \u001b[32m5070\u001b[39m)\n\u001b[32m----> \u001b[39m\u001b[32m3\u001b[39m \u001b[43mDatumSync\u001b[49m\u001b[43m(\u001b[49m\u001b[43mcrs_input\u001b[49m\u001b[43m=\u001b[49m\u001b[32;43m4326\u001b[39;49m\u001b[43m,\u001b[49m\u001b[43m \u001b[49m\u001b[43mtransform\u001b[49m\u001b[43m \u001b[49m\u001b[43m=\u001b[49m\u001b[43m \u001b[49m\u001b[43mstandalone_transformer\u001b[49m\u001b[43m)\u001b[49m\n",
      "\u001b[36mFile \u001b[39m\u001b[32m~/Documents/code/datum-sync/src/datum_sync/datum_sync.py:52\u001b[39m, in \u001b[36mDatumSync.__init__\u001b[39m\u001b[34m(self, crs_input, crs_output, transform)\u001b[39m\n\u001b[32m     46\u001b[39m \u001b[38;5;66;03m# determine if correct units passed in\u001b[39;00m\n\u001b[32m     47\u001b[39m \u001b[38;5;28;01mif\u001b[39;00m (\n\u001b[32m     48\u001b[39m     (transform \u001b[38;5;129;01mand\u001b[39;00m crs_input)\n\u001b[32m     49\u001b[39m     \u001b[38;5;129;01mor\u001b[39;00m (transform \u001b[38;5;129;01mand\u001b[39;00m crs_output)\n\u001b[32m     50\u001b[39m     \u001b[38;5;129;01mor\u001b[39;00m (\u001b[38;5;129;01mnot\u001b[39;00m (crs_input \u001b[38;5;129;01mand\u001b[39;00m crs_output) \u001b[38;5;129;01mand\u001b[39;00m \u001b[38;5;129;01mnot\u001b[39;00m transform)\n\u001b[32m     51\u001b[39m ):\n\u001b[32m---> \u001b[39m\u001b[32m52\u001b[39m     \u001b[38;5;28;01mraise\u001b[39;00m \u001b[38;5;167;01mValueError\u001b[39;00m(\n\u001b[32m     53\u001b[39m         \u001b[33m\"\u001b[39m\u001b[33mCRS/transform input incorretly specified. \u001b[39m\u001b[33m\"\u001b[39m\n\u001b[32m     54\u001b[39m         \u001b[33m\"\u001b[39m\u001b[33mEither input crs_in and crs_out OR transform; but not both\u001b[39m\u001b[33m\"\u001b[39m\n\u001b[32m     55\u001b[39m     )\n\u001b[32m     57\u001b[39m \u001b[38;5;66;03m# define a pyproj transformer if none given\u001b[39;00m\n\u001b[32m     58\u001b[39m \u001b[38;5;28mself\u001b[39m.transform = (\n\u001b[32m     59\u001b[39m     transform\n\u001b[32m     60\u001b[39m     \u001b[38;5;28;01mif\u001b[39;00m transform\n\u001b[32m     61\u001b[39m     \u001b[38;5;28;01melse\u001b[39;00m DatumSync.epsg_to_transform(crs_input=crs_input, crs_output=crs_output)  \u001b[38;5;66;03m# type: ignore[arg-type]\u001b[39;00m\n\u001b[32m     62\u001b[39m )\n",
      "\u001b[31mValueError\u001b[39m: CRS/transform input incorretly specified. Either input crs_in and crs_out OR transform; but not both"
     ]
    }
   ],
   "source": [
    "# should return error\n",
    "standalone_transformer = DatumSync.epsg_to_transform(4326, 5070)\n",
    "DatumSync(crs_input=4326, transform=standalone_transformer)"
   ]
  },
  {
   "cell_type": "code",
   "execution_count": null,
   "id": "172f5f14",
   "metadata": {},
   "outputs": [],
   "source": []
  }
 ],
 "metadata": {
  "kernelspec": {
   "display_name": ".venv",
   "language": "python",
   "name": "python3"
  },
  "language_info": {
   "codemirror_mode": {
    "name": "ipython",
    "version": 3
   },
   "file_extension": ".py",
   "mimetype": "text/x-python",
   "name": "python",
   "nbconvert_exporter": "python",
   "pygments_lexer": "ipython3",
   "version": "3.12.10"
  }
 },
 "nbformat": 4,
 "nbformat_minor": 5
}
