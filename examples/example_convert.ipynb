{
 "cells": [
  {
   "cell_type": "markdown",
   "id": "2b90deb6",
   "metadata": {},
   "source": [
    "# Datum Sync Demo\n",
    "Demonstrates the `convert_datum` function which converts between horizontal and vertical CRS using pyproj.\n",
    "\n",
    "NOTE: An internet connection is required for correct results. Some transformations require pyproj to fetch transformation grids on the fly."
   ]
  },
  {
   "cell_type": "code",
   "execution_count": 1,
   "id": "4dcd00f4",
   "metadata": {},
   "outputs": [],
   "source": [
    "from pyproj import CRS, Transformer\n",
    "\n",
    "from datum_sync import convert_datum"
   ]
  },
  {
   "cell_type": "markdown",
   "id": "e08422cd",
   "metadata": {},
   "source": [
    "## Converting from WGS84 3D to Albers+NAVD88: 2 Steps"
   ]
  },
  {
   "cell_type": "markdown",
   "id": "b4624bde",
   "metadata": {},
   "source": [
    "### Step 1. 3D WGS84 -> NAD83/NAVD88\n",
    "Convert from 3D WGS84 (https://epsg.io/4979) to NAD83/NAVD88 (https://epsg.io/5498)\n",
    "These are two geographic coordinate systems using degrees. 4979 elevation is over the WGS84 ellipsoid. This converts horizontally to NAD83 and vertically to NAVD88."
   ]
  },
  {
   "cell_type": "code",
   "execution_count": 2,
   "id": "5f93667a",
   "metadata": {},
   "outputs": [
    {
     "name": "stdout",
     "output_type": "stream",
     "text": [
      "Input 3D WGS84 coordinates: [(-79.4, 43.7, 100), (-79, 43, 110)]\n",
      "Output NAD83/NAVD88 coordinates: [(-79.39999849691358, 43.69999146739919, 137.63312305578765), (-78.99999685400357, 42.99999183172088, 146.61874386759752)]\n"
     ]
    }
   ],
   "source": [
    "lats = [43.7, 43]\n",
    "lngs = [-79.4, -79]\n",
    "zs = [100, 110]\n",
    "wgs84_3d = 4979  # EPSG\n",
    "nad83_navd88 = 5498  # EPSG\n",
    "\n",
    "output_nad83 = convert_datum(xx=lngs, yy=lats, zz=zs, crs_input=wgs84_3d, crs_output=nad83_navd88)\n",
    "\n",
    "wgs84_coords = [(lngs[i], lats[i], zs[i]) for i in range(len(lats))]\n",
    "nad83_coords = [\n",
    "    (output_nad83[0][i], output_nad83[1][i], output_nad83[2][i]) for i in range(len(output_nad83[0]))\n",
    "]\n",
    "\n",
    "print(f\"Input 3D WGS84 coordinates: {wgs84_coords}\")\n",
    "print(f\"Output NAD83/NAVD88 coordinates: {nad83_coords}\")"
   ]
  },
  {
   "cell_type": "markdown",
   "id": "b439544a",
   "metadata": {},
   "source": [
    "### Step 2. NAD83/NAVD88 -> Albers/NAVD88\n",
    "Now convert the NAD83/NAVD88 to CONUS Albers (horizontal). Albers does not have a vertical component, so it will trigger a warning that z values were not transformed. This is intentional in this case because the coordinates were already transformed from WGS84 height to NAVD88. \n",
    "\n",
    "Albers is a projected CRS that uses meters. Now degrees will be in meters."
   ]
  },
  {
   "cell_type": "code",
   "execution_count": 3,
   "id": "a3c74686",
   "metadata": {},
   "outputs": [
    {
     "name": "stdout",
     "output_type": "stream",
     "text": [
      "Input NAD83/NAVD88 coordinates: [(-79.39999849691358, 43.69999146739919, 137.63312305578765), (-78.99999685400357, 42.99999183172088, 146.61874386759752)]\n",
      "Output Albers/NAVD88 coordinates: [(1325676.0689027791, 2416931.24897092, 137.63312305578765), (1371188.7036548508, 2345672.0544312494, 146.61874386759752)]\n"
     ]
    },
    {
     "name": "stderr",
     "output_type": "stream",
     "text": [
      "/tmp/ipykernel_2154293/2957665717.py:4: ZConversionWarning: Z values were not altered. This could be expected. This may be because input and output CRS do not have vertical element.\n",
      "  output_albers = convert_datum(\n"
     ]
    }
   ],
   "source": [
    "conus_albers = 5070  # EPSG\n",
    "nad83_navd88 = 5498  # EPSG\n",
    "\n",
    "output_albers = convert_datum(\n",
    "    xx=output_nad83[0],\n",
    "    yy=output_nad83[1],\n",
    "    zz=output_nad83[2],\n",
    "    crs_input=nad83_navd88,\n",
    "    crs_output=conus_albers,\n",
    ")\n",
    "\n",
    "albers_coords = [\n",
    "    (output_albers[0][i], output_albers[1][i], output_albers[2][i]) for i in range(len(output_albers[0]))\n",
    "]\n",
    "print(f\"Input NAD83/NAVD88 coordinates: {nad83_coords}\")\n",
    "print(f\"Output Albers/NAVD88 coordinates: {albers_coords}\")"
   ]
  },
  {
   "cell_type": "markdown",
   "id": "9250f122",
   "metadata": {},
   "source": [
    "### Step 3. Compare all coordinates\n",
    "Here shows the transformation from initial 3D WGS84 (degrees, height above ellipsoid) to NAD83/NAVD88 (degrees, height above NAVD88 datum) to Albers/NAVD88 (projected meters, height above NAVD88 datum)"
   ]
  },
  {
   "cell_type": "code",
   "execution_count": 4,
   "id": "7f27a1a4",
   "metadata": {},
   "outputs": [
    {
     "name": "stdout",
     "output_type": "stream",
     "text": [
      "Input 3D WGS84 coordinates: [(-79.4, 43.7, 100), (-79, 43, 110)]\n",
      "Input NAD83/NAVD88 coordinates: [(-79.39999849691358, 43.69999146739919, 137.63312305578765), (-78.99999685400357, 42.99999183172088, 146.61874386759752)]\n",
      "Output Albers/NAVD88 coordinates: [(1325676.0689027791, 2416931.24897092, 137.63312305578765), (1371188.7036548508, 2345672.0544312494, 146.61874386759752)]\n"
     ]
    }
   ],
   "source": [
    "print(f\"Input 3D WGS84 coordinates: {wgs84_coords}\")\n",
    "print(f\"Input NAD83/NAVD88 coordinates: {nad83_coords}\")\n",
    "print(f\"Output Albers/NAVD88 coordinates: {albers_coords}\")"
   ]
  },
  {
   "cell_type": "markdown",
   "id": "fd0d121c",
   "metadata": {},
   "source": [
    "### Example. Run with a pre-constructed transformer. Use a single XY."
   ]
  },
  {
   "cell_type": "code",
   "execution_count": 5,
   "id": "482627ad",
   "metadata": {},
   "outputs": [
    {
     "name": "stdout",
     "output_type": "stream",
     "text": [
      "Input NAD83/NAVD88 coordinates: (-79.4, 43.7))\n",
      "Output Albers/NAVD88 coordinates: (16746853.982679501, 8235388.481230134)\n"
     ]
    }
   ],
   "source": [
    "conus_albers = CRS.from_epsg(5070)\n",
    "nad83_navd88 = CRS.from_epsg(5498)\n",
    "transform = Transformer.from_crs(crs_from=nad83_navd88, crs_to=conus_albers)\n",
    "xx = -79.4\n",
    "yy = 43.7\n",
    "\n",
    "output = convert_datum(xx=-79.4, yy=43.7, transform=transform)\n",
    "\n",
    "print(f\"Input NAD83/NAVD88 coordinates: {(xx, yy)})\")\n",
    "print(f\"Output Albers/NAVD88 coordinates: {output[0], output[1]}\")"
   ]
  }
 ],
 "metadata": {
  "kernelspec": {
   "display_name": ".venv",
   "language": "python",
   "name": "python3"
  },
  "language_info": {
   "codemirror_mode": {
    "name": "ipython",
    "version": 3
   },
   "file_extension": ".py",
   "mimetype": "text/x-python",
   "name": "python",
   "nbconvert_exporter": "python",
   "pygments_lexer": "ipython3",
   "version": "3.12.10"
  }
 },
 "nbformat": 4,
 "nbformat_minor": 5
}
